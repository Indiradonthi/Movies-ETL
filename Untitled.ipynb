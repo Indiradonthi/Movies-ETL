{
 "cells": [
  {
   "cell_type": "code",
   "execution_count": 2,
   "id": "c755c5a4",
   "metadata": {},
   "outputs": [],
   "source": [
    "from config1 import db_password"
   ]
  },
  {
   "cell_type": "code",
   "execution_count": null,
   "id": "915d191b",
   "metadata": {},
   "outputs": [],
   "source": []
  }
 ],
 "metadata": {
  "kernelspec": {
   "display_name": "Python 3",
   "language": "python",
   "name": "python3"
  },
  "language_info": {
   "codemirror_mode": {
    "name": "ipython",
    "version": 3
   },
   "file_extension": ".py",
   "mimetype": "text/x-python",
   "name": "python",
   "nbconvert_exporter": "python",
   "pygments_lexer": "ipython3",
   "version": "3.7.10"
  }
 },
 "nbformat": 4,
 "nbformat_minor": 5
}
